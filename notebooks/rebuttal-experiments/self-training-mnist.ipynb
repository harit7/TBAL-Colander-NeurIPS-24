{
 "cells": [
  {
   "cell_type": "code",
   "execution_count": null,
   "metadata": {},
   "outputs": [],
   "source": [
    "import sys \n",
    "sys.path.append('../../../')\n",
    "sys.path.append('../../')\n",
    "sys.path.append('../')\n",
    "\n",
    "from omegaconf import OmegaConf\n",
    "from src.core.passive_learning import *\n",
    "from src.core.auto_labeling import *\n",
    "from src.utils.logging_utils import * \n",
    "from src.data_layer.datasets.dataset_factory import * \n",
    "from src.data_layer.dataset_utils import * \n",
    "from src.utils.counting_utils import *  #\n",
    "from src.utils.common_utils import * \n",
    "from src.utils.vis_utils import *\n",
    "#from src.core.run_lib import * \n",
    "from src.core.self_training import * \n",
    "import copy \n",
    "import random \n",
    "\n",
    "config_file = '../../configs/self-training/mnist_lenet_base_conf.yaml'\n",
    "conf = OmegaConf.load(config_file)\n",
    "\n",
    "logger = get_logger('../../temp/logs/self-training-mnist.log','PL',level=logging.DEBUG)\n",
    "#logger = get_logger('../../temp/logs/pl.log','PL')\n",
    "\n",
    "conf['eval'] = 'full'\n",
    "conf['calib_conf'] = None "
   ]
  },
  {
   "cell_type": "code",
   "execution_count": null,
   "metadata": {},
   "outputs": [],
   "source": [
    "q_conf = conf[\"train_pts_query_conf\"] \n",
    "q_conf['seed_train_size'] = 100\n",
    "q_conf['max_num_train_pts'] = 100\n",
    "\n",
    "q_conf['include_pseudo_labeled'] = True \n",
    "\n",
    "q_conf['enable_active_querying'] = False \n",
    "\n",
    "conf['stopping_criterion'] = \"max_epochs\""
   ]
  },
  {
   "cell_type": "code",
   "execution_count": null,
   "metadata": {},
   "outputs": [],
   "source": [
    "auto_lbl_conf = conf[\"auto_lbl_conf\"] \n",
    "\n",
    "auto_lbl_conf['threshold_estimation'] = 'val_estimate'\n",
    "#auto_lbl_conf['threshold_estimation'] = 'fixed'\n",
    "#auto_lbl_conf['fixed_threshold'] = 0.6\n",
    "\n",
    "\n",
    "pseudo_lbl_conf = conf[\"pseudo_lbl_conf\"] \n",
    "\n",
    "#pseudo_lbl_conf['threshold_estimation'] = 'val_estimate'\n",
    "pseudo_lbl_conf['threshold_estimation'] = 'fixed'\n",
    "pseudo_lbl_conf['fixed_threshold'] = 0.95"
   ]
  },
  {
   "cell_type": "code",
   "execution_count": null,
   "metadata": {},
   "outputs": [],
   "source": [
    "set_seed(conf['random_seed'])\n",
    "\n",
    "dm = DataManager(conf,logger,lib=conf['model_conf']['lib'])\n",
    "\n",
    "logger.info('Loaded dataset {}'.format(conf['data_conf']['name']))\n",
    "logger.info(f' std_train_size : {len(dm.ds_std_train)} and  std_val_size: {len(dm.ds_std_val)}')\n",
    "\n",
    "st = SelfTraining(conf,dm,logger)\n",
    "\n",
    "st.init()\n",
    "\n",
    "lst_epoch_out = st.run_al_loop()\n",
    "\n",
    "logger.info('Self Training Loop Done')"
   ]
  },
  {
   "cell_type": "code",
   "execution_count": null,
   "metadata": {},
   "outputs": [],
   "source": []
  }
 ],
 "metadata": {
  "kernelspec": {
   "display_name": "act-lbl",
   "language": "python",
   "name": "python3"
  },
  "language_info": {
   "codemirror_mode": {
    "name": "ipython",
    "version": 3
   },
   "file_extension": ".py",
   "mimetype": "text/x-python",
   "name": "python",
   "nbconvert_exporter": "python",
   "pygments_lexer": "ipython3",
   "version": "3.10.10"
  }
 },
 "nbformat": 4,
 "nbformat_minor": 2
}
