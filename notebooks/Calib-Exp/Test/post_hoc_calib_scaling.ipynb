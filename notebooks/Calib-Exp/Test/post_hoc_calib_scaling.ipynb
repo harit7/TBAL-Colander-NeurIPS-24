{
 "cells": [
  {
   "cell_type": "code",
   "execution_count": 1,
   "metadata": {},
   "outputs": [],
   "source": [
    "import sys\n",
    "sys.path.append('../../../')\n",
    "sys.path.append('../../')\n",
    "sys.path.append('../')\n",
    "import seaborn as sns \n",
    "from multiprocessing import Process\n",
    "from omegaconf import OmegaConf\n",
    "from core.run_lib import *\n",
    "import numpy as np \n",
    "from core.passive_learning import *\n",
    "from core.auto_labeling import *\n",
    "from datasets import dataset_factory \n",
    "from datasets.dataset_utils import * \n",
    "from utils.common_utils import * \n",
    "from utils.vis_utils import *\n",
    "from core.run_lib import * \n",
    "import copy \n",
    "import random \n",
    "from datasets.numpy_dataset import * \n",
    "\n",
    "\n",
    "root_dir = '../../../'\n",
    "conf_dir = f'{root_dir}configs/calib-exp/'\n",
    "\n",
    "base_conf_file = '{}/mnist_lenet_base_conf.yaml'.format(conf_dir)\n",
    "root_pfx = 'mnist_lenet_calib-exp-runs'\n",
    "root_pfx = f'{root_dir}/outputs/{root_pfx}/'\n",
    "\n",
    "\n",
    "lst_seed_frac= [0.2]\n",
    "lst_query_batch_frac = [0.05]\n",
    "\n",
    "\n",
    "conf = OmegaConf.load(base_conf_file)\n",
    "conf['root_pfx']    = root_pfx\n",
    "\n",
    "\n",
    "logger   = get_logger('../../../temp/logs/act_lbl_test.log',stdout_redirect=True,level=logging.DEBUG)\n",
    "\n"
   ]
  },
  {
   "cell_type": "code",
   "execution_count": 2,
   "metadata": {},
   "outputs": [
    {
     "name": "stdout",
     "output_type": "stream",
     "text": [
      "here\n",
      "torch.Size([60000, 28, 28])\n",
      "[09/06/2023 05:48:42 PM : DEBUG : data_manag : ] : torch.Size([42000, 28, 28])\n",
      "[09/06/2023 05:48:42 PM : INFO  : data_manag : ] : Loaded dataset mnist\n",
      "[09/06/2023 05:48:42 PM : INFO  : data_manag : ] : Std train size: 42000 and Std. Val. Size:18000\n",
      "[09/06/2023 05:48:42 PM : DEBUG : passive_le : ] : Querying 10 seed training points\n",
      "[09/06/2023 05:48:42 PM : DEBUG : passive_le : ] : Queried 10 seed points for training\n",
      "[09/06/2023 05:48:42 PM : DEBUG : passive_le : ] : Validation Data Size :5000\n",
      "[09/06/2023 05:48:42 PM : DEBUG : passive_le : ] : Querying rest of the training points 40 in single batch\n",
      "[09/06/2023 05:48:42 PM : INFO  : passive_le : ] : Labeled data size for training: 50\n",
      "[09/06/2023 05:48:42 PM : INFO  : pytorch_cl : ] : {'model_name': 'lenet', 'num_classes': 10, 'fit_intercept': True, 'lib': 'pytorch'}\n",
      "[09/06/2023 05:48:42 PM : INFO  : passive_le : ] : --------------- Begin Model Training ------------\n",
      "[09/06/2023 05:48:42 PM : INFO  : passive_le : ] : Training conf :{'optimizer': 'sgd', 'learning_rate': 0.1, 'loss_tolerance': 1e-06, 'max_epochs': 50, 'normalize_weights': False, 'batch_size': 32, 'train_err_tol': -1, 'weight_decay': 0.0001, 'use_lr_schedule': False, 'momentum': 0.9, 'log_batch_loss_freq': -1, 'ckpt_load_path': 'None', 'ckpt_save_path': 'None', 'train_from_scratch': True, 'train_from_ckpt': False, 'device': 'cuda:0', 'store_embedding': False, 'save_ckpt': False, 'num_trials': 1}\n",
      "[09/06/2023 05:48:42 PM : INFO  : passive_le : ] : Model conf : {'model_name': 'lenet', 'num_classes': 10, 'fit_intercept': True, 'lib': 'pytorch'}\n",
      "[09/06/2023 05:48:42 PM : INFO  : pytorch_cl : ] : {'model_name': 'lenet', 'num_classes': 10, 'fit_intercept': True, 'lib': 'pytorch'}\n",
      "[09/06/2023 05:48:42 PM : DEBUG : model_trai : ] : Training conf : {'optimizer': 'sgd', 'learning_rate': 0.1, 'loss_tolerance': 1e-06, 'max_epochs': 50, 'normalize_weights': False, 'batch_size': 32, 'train_err_tol': -1, 'weight_decay': 0.0001, 'use_lr_schedule': False, 'momentum': 0.9, 'log_batch_loss_freq': -1, 'ckpt_load_path': 'None', 'ckpt_save_path': 'None', 'train_from_scratch': True, 'train_from_ckpt': False, 'device': 'cuda:0', 'store_embedding': False, 'save_ckpt': False, 'num_trials': 1, 'loss_function': 'std_cross_entropy', 'loss_tol': 1e-06, 'max_max_epochs': 10000, 'shuffle': False, 'stopping_criterion': 'max_epochs', 'log_val_err': False, 'log_val_ece': False, 'log_train_ece': False, 'log_val_err_freq': 5, 'log_val_ece_freq': 5, 'verbose_logging': False, 'log_train_ece_freq': 5, 'nesterov': False, 'num_train_pts': 50}\n",
      "[09/06/2023 05:48:42 PM : DEBUG : model_trai : ] : Using loss function : <class 'models.torch.losses.common_losses.StdCrossEntropyLoss'>\n",
      "[09/06/2023 05:48:42 PM : DEBUG : model_trai : ] : Using stopping criterion max_epochs\n",
      "[09/06/2023 05:48:44 PM : DEBUG : model_trai : ] : Epoch: 0 Training Error : 0.8600 , Training Loss : 0.0923\n",
      "[09/06/2023 05:48:44 PM : DEBUG : model_trai : ] : Epoch: 1 Training Error : 0.7200 , Training Loss : 0.0890\n",
      "[09/06/2023 05:48:44 PM : DEBUG : model_trai : ] : Epoch: 2 Training Error : 0.5600 , Training Loss : 0.0839\n",
      "[09/06/2023 05:48:44 PM : DEBUG : model_trai : ] : Epoch: 3 Training Error : 0.5000 , Training Loss : 0.0761\n",
      "[09/06/2023 05:48:44 PM : DEBUG : model_trai : ] : Epoch: 4 Training Error : 0.5200 , Training Loss : 0.0652\n",
      "[09/06/2023 05:48:45 PM : DEBUG : model_trai : ] : Epoch: 5 Training Error : 0.4200 , Training Loss : 0.0525\n",
      "[09/06/2023 05:48:45 PM : DEBUG : model_trai : ] : Epoch: 6 Training Error : 0.3200 , Training Loss : 0.0391\n",
      "[09/06/2023 05:48:45 PM : DEBUG : model_trai : ] : Epoch: 7 Training Error : 0.2600 , Training Loss : 0.0271\n",
      "[09/06/2023 05:48:45 PM : DEBUG : model_trai : ] : Epoch: 8 Training Error : 0.1600 , Training Loss : 0.0174\n",
      "[09/06/2023 05:48:45 PM : DEBUG : model_trai : ] : Epoch: 9 Training Error : 0.0400 , Training Loss : 0.0112\n",
      "[09/06/2023 05:48:45 PM : DEBUG : model_trai : ] : Epoch: 10 Training Error : 0.0200 , Training Loss : 0.0067\n",
      "[09/06/2023 05:48:45 PM : DEBUG : model_trai : ] : Epoch: 11 Training Error : 0.0000 , Training Loss : 0.0041\n",
      "[09/06/2023 05:48:45 PM : DEBUG : model_trai : ] : Epoch: 12 Training Error : 0.0000 , Training Loss : 0.0027\n",
      "[09/06/2023 05:48:45 PM : DEBUG : model_trai : ] : Epoch: 13 Training Error : 0.0000 , Training Loss : 0.0016\n",
      "[09/06/2023 05:48:45 PM : DEBUG : model_trai : ] : Epoch: 14 Training Error : 0.0000 , Training Loss : 0.0011\n",
      "[09/06/2023 05:48:46 PM : DEBUG : model_trai : ] : Epoch: 15 Training Error : 0.0000 , Training Loss : 0.0007\n",
      "[09/06/2023 05:48:46 PM : DEBUG : model_trai : ] : Epoch: 16 Training Error : 0.0000 , Training Loss : 0.0005\n",
      "[09/06/2023 05:48:46 PM : DEBUG : model_trai : ] : Epoch: 17 Training Error : 0.0000 , Training Loss : 0.0003\n",
      "[09/06/2023 05:48:46 PM : DEBUG : model_trai : ] : Epoch: 18 Training Error : 0.0000 , Training Loss : 0.0002\n",
      "[09/06/2023 05:48:46 PM : DEBUG : model_trai : ] : Epoch: 19 Training Error : 0.0000 , Training Loss : 0.0002\n",
      "[09/06/2023 05:48:46 PM : DEBUG : model_trai : ] : Epoch: 20 Training Error : 0.0000 , Training Loss : 0.0001\n",
      "[09/06/2023 05:48:46 PM : DEBUG : model_trai : ] : Epoch: 21 Training Error : 0.0000 , Training Loss : 0.0001\n",
      "[09/06/2023 05:48:46 PM : DEBUG : model_trai : ] : Epoch: 22 Training Error : 0.0000 , Training Loss : 0.0001\n",
      "[09/06/2023 05:48:46 PM : DEBUG : model_trai : ] : Epoch: 23 Training Error : 0.0000 , Training Loss : 0.0001\n",
      "[09/06/2023 05:48:46 PM : DEBUG : model_trai : ] : Epoch: 24 Training Error : 0.0000 , Training Loss : 0.0001\n",
      "[09/06/2023 05:48:47 PM : DEBUG : model_trai : ] : Epoch: 25 Training Error : 0.0000 , Training Loss : 0.0001\n",
      "[09/06/2023 05:48:47 PM : DEBUG : model_trai : ] : Epoch: 26 Training Error : 0.0000 , Training Loss : 0.0001\n",
      "[09/06/2023 05:48:47 PM : DEBUG : model_trai : ] : Epoch: 27 Training Error : 0.0000 , Training Loss : 0.0001\n",
      "[09/06/2023 05:48:47 PM : DEBUG : model_trai : ] : Epoch: 28 Training Error : 0.0000 , Training Loss : 0.0001\n",
      "[09/06/2023 05:48:47 PM : DEBUG : model_trai : ] : Epoch: 29 Training Error : 0.0000 , Training Loss : 0.0001\n",
      "[09/06/2023 05:48:47 PM : DEBUG : model_trai : ] : Epoch: 30 Training Error : 0.0000 , Training Loss : 0.0001\n",
      "[09/06/2023 05:48:47 PM : DEBUG : model_trai : ] : Epoch: 31 Training Error : 0.0000 , Training Loss : 0.0000\n",
      "[09/06/2023 05:48:47 PM : DEBUG : model_trai : ] : Epoch: 32 Training Error : 0.0000 , Training Loss : 0.0000\n",
      "[09/06/2023 05:48:47 PM : DEBUG : model_trai : ] : Epoch: 33 Training Error : 0.0000 , Training Loss : 0.0000\n",
      "[09/06/2023 05:48:47 PM : DEBUG : model_trai : ] : Epoch: 34 Training Error : 0.0000 , Training Loss : 0.0000\n",
      "[09/06/2023 05:48:47 PM : DEBUG : model_trai : ] : Epoch: 35 Training Error : 0.0000 , Training Loss : 0.0000\n",
      "[09/06/2023 05:48:48 PM : DEBUG : model_trai : ] : Epoch: 36 Training Error : 0.0000 , Training Loss : 0.0000\n",
      "[09/06/2023 05:48:48 PM : DEBUG : model_trai : ] : Epoch: 37 Training Error : 0.0000 , Training Loss : 0.0000\n",
      "[09/06/2023 05:48:48 PM : DEBUG : model_trai : ] : Epoch: 38 Training Error : 0.0000 , Training Loss : 0.0000\n",
      "[09/06/2023 05:48:48 PM : DEBUG : model_trai : ] : Epoch: 39 Training Error : 0.0000 , Training Loss : 0.0000\n",
      "[09/06/2023 05:48:48 PM : DEBUG : model_trai : ] : Epoch: 40 Training Error : 0.0000 , Training Loss : 0.0000\n",
      "[09/06/2023 05:48:48 PM : DEBUG : model_trai : ] : Epoch: 41 Training Error : 0.0000 , Training Loss : 0.0000\n",
      "[09/06/2023 05:48:48 PM : DEBUG : model_trai : ] : Epoch: 42 Training Error : 0.0000 , Training Loss : 0.0000\n",
      "[09/06/2023 05:48:48 PM : DEBUG : model_trai : ] : Epoch: 43 Training Error : 0.0000 , Training Loss : 0.0000\n",
      "[09/06/2023 05:48:48 PM : DEBUG : model_trai : ] : Epoch: 44 Training Error : 0.0000 , Training Loss : 0.0000\n",
      "[09/06/2023 05:48:48 PM : DEBUG : model_trai : ] : Epoch: 45 Training Error : 0.0000 , Training Loss : 0.0000\n",
      "[09/06/2023 05:48:49 PM : DEBUG : model_trai : ] : Epoch: 46 Training Error : 0.0000 , Training Loss : 0.0000\n",
      "[09/06/2023 05:48:49 PM : DEBUG : model_trai : ] : Epoch: 47 Training Error : 0.0000 , Training Loss : 0.0000\n",
      "[09/06/2023 05:48:49 PM : DEBUG : model_trai : ] : Epoch: 48 Training Error : 0.0000 , Training Loss : 0.0000\n",
      "[09/06/2023 05:48:49 PM : DEBUG : model_trai : ] : Epoch: 49 Training Error : 0.0000 , Training Loss : 0.0000\n",
      "[09/06/2023 05:48:49 PM : DEBUG : model_trai : ] : Average training loss : 0.011248869500556667\n",
      "[09/06/2023 05:48:49 PM : INFO  : passive_le : ] : --------------- End Model Training ------------\n",
      "tensor(13.1221)\n",
      "0.34299999999999997\n"
     ]
    }
   ],
   "source": [
    "\n",
    "#ds_train_sub = dm.ds_std_train.get_subset(train_idcs)\n",
    "conf['train_pts_query_conf']['seed_train_size']= 10 \n",
    "conf['train_pts_query_conf']['max_num_train_pts']= 50\n",
    "\n",
    "set_seed(conf['random_seed'])\n",
    "\n",
    "dm = DataManager(conf,logger,lib=conf['model_conf']['lib'])\n",
    "len(dm.ds_std_train), len(dm.ds_std_val)\n",
    "\n",
    "pl = PassiveLearning(conf,dm,logger)\n",
    "\n",
    "out = pl.run()\n",
    "\n",
    "w = pl.cur_clf.get_weights()\n",
    "print(torch.norm(w))\n",
    "test_err = get_test_error(pl.cur_clf,dm.ds_std_test,conf['inference_conf'])\n",
    "print(test_err)"
   ]
  },
  {
   "cell_type": "code",
   "execution_count": 3,
   "metadata": {},
   "outputs": [
    {
     "name": "stdout",
     "output_type": "stream",
     "text": [
      "here\n"
     ]
    }
   ],
   "source": [
    "from calibration.calibrators import * \n",
    "import calibration.calibrators as calibrators\n",
    "\n",
    "conf['calibrate_clf'] = True \n",
    "calib_train_conf = {} \n",
    "\n",
    "calib_conf_file = '{}/platt_scaling_base_conf.yaml'.format(conf_dir)\n",
    "\n",
    "lst_seed_frac= [0.2]\n",
    "lst_query_batch_frac = [0.05]\n",
    "\n",
    "\n",
    "conf = OmegaConf.load(base_conf_file)\n",
    "\n",
    "\n",
    "conf['calibration_conf'] = OmegaConf.load(calib_conf_file) \n",
    "\n",
    "calib = calibrators.get_calibrator(clf=pl.cur_clf,calib_conf=conf['calibration_conf'],logger=logger)\n",
    "\n",
    "cur_val_ds,cur_val_idcs    = dm.get_current_validation_data()\n",
    "\n",
    "calib.fit(cur_val_ds)\n",
    "#logger.close()\n",
    "close_logger(logger)"
   ]
  },
  {
   "cell_type": "code",
   "execution_count": 5,
   "metadata": {},
   "outputs": [
    {
     "data": {
      "image/png": "[encoded data removed]",
      "text/plain": [
       "<Figure size 432x288 with 1 Axes>"
      ]
     },
     "metadata": {
      "needs_background": "light"
     },
     "output_type": "display_data"
    }
   ],
   "source": [
    "\n",
    "val_inf_out  = calib.predict(cur_val_ds,inference_conf={'device':'cuda:0'})\n",
    "\n",
    "bin_data = compute_calibration(cur_val_ds.Y, val_inf_out['labels'], val_inf_out['confidence'], num_bins=15)\n",
    "ax = plt.subplot()\n",
    "reliability_diagram_subplot(ax, bin_data, draw_ece=True, draw_bin_importance=False, \n",
    "                             title=\"Reliability Diagram\",  xlabel=\"Confidence\", ylabel=\"Expected Accuracy\",disable_labels=False)"
   ]
  },
  {
   "cell_type": "code",
   "execution_count": 6,
   "metadata": {},
   "outputs": [
    {
     "data": {
      "text/plain": [
       "<AxesSubplot:ylabel='Density'>"
      ]
     },
     "execution_count": 6,
     "metadata": {},
     "output_type": "execute_result"
    },
    {
     "data": {
      "image/png": "[encoded data removed]",
      "text/plain": [
       "<Figure size 432x288 with 1 Axes>"
      ]
     },
     "metadata": {
      "needs_background": "light"
     },
     "output_type": "display_data"
    }
   ],
   "source": [
    "from utils.counting_utils import * \n",
    "\n",
    "out = get_scores_numbers(val_inf_out, cur_val_ds.Y,10)\n",
    "\n",
    "sns.kdeplot(out['correct_scores'])\n",
    "sns.kdeplot(out['incorrect_scores'])\n"
   ]
  },
  {
   "cell_type": "code",
   "execution_count": 7,
   "metadata": {},
   "outputs": [
    {
     "name": "stdout",
     "output_type": "stream",
     "text": [
      "{'auto_labeled_acc': 0.9773470928769192, 'coverage_1': 0.1891904761904762, 'coverage_2': 0}\n"
     ]
    }
   ],
   "source": [
    "dm.unmark_auto_labeled()\n",
    "\n",
    "auto_labeler = AutoLabeling(conf,dm,pl.cur_clf,logger,calibrator=calib)\n",
    "out = auto_labeler.run()\n",
    "out = dm.get_auto_labeling_counts()\n",
    "print(out)"
   ]
  },
  {
   "cell_type": "code",
   "execution_count": null,
   "metadata": {},
   "outputs": [],
   "source": []
  }
 ],
 "metadata": {
  "kernelspec": {
   "display_name": "act-lbl",
   "language": "python",
   "name": "python3"
  },
  "language_info": {
   "codemirror_mode": {
    "name": "ipython",
    "version": 3
   },
   "file_extension": ".py",
   "mimetype": "text/x-python",
   "name": "python",
   "nbconvert_exporter": "python",
   "pygments_lexer": "ipython3",
   "version": "3.10.4"
  },
  "orig_nbformat": 4
 },
 "nbformat": 4,
 "nbformat_minor": 2
}
