{
 "cells": [
  {
   "cell_type": "code",
   "execution_count": 1,
   "metadata": {},
   "outputs": [],
   "source": [
    "import sys\n",
    "sys.path.append('../../../')\n",
    "sys.path.append('../../')\n",
    "sys.path.append('../')\n",
    "import seaborn as sns \n",
    "from multiprocessing import Process\n",
    "from omegaconf import OmegaConf\n",
    "from core.run_lib import *\n",
    "import numpy as np \n",
    "from core.passive_learning import *\n",
    "from core.auto_labeling import *\n",
    "from datasets import dataset_factory \n",
    "from datasets.dataset_utils import * \n",
    "from utils.common_utils import * \n",
    "from utils.vis_utils import *\n",
    "from core.run_lib import * \n",
    "import copy \n",
    "import random \n",
    "from datasets.numpy_dataset import * \n",
    "\n",
    "\n",
    "root_dir = '../../../'\n",
    "conf_dir = f'{root_dir}configs/calib-exp/'\n",
    "\n",
    "base_conf_file = '{}/mnist_lenet_base_conf.yaml'.format(conf_dir)\n",
    "conf           = OmegaConf.load(base_conf_file)\n",
    "\n",
    "training_conf  = OmegaConf.load('{}/training_confs/label_smoothing_training_conf.yaml'.format(conf_dir))\n",
    "\n",
    "root_pfx       = 'mnist_lenet_calib-exp-runs'\n",
    "root_pfx       = f'{root_dir}/outputs/{root_pfx}/'\n",
    "\n",
    "\n",
    "conf['root_pfx']    = root_pfx\n",
    "\n",
    "conf.training_conf = training_conf\n",
    "\n",
    "\n",
    "logger   = get_logger('../../../temp/logs/act_lbl_test.log',stdout_redirect=True,level=logging.DEBUG)\n"
   ]
  },
  {
   "cell_type": "code",
   "execution_count": 2,
   "metadata": {},
   "outputs": [
    {
     "name": "stdout",
     "output_type": "stream",
     "text": [
      "here\n",
      "torch.Size([60000, 28, 28])\n",
      "[09/06/2023 04:19:04 PM : DEBUG : data_manag : ] : torch.Size([42000, 28, 28])\n",
      "[09/06/2023 04:19:04 PM : INFO  : data_manag : ] : Loaded dataset mnist\n",
      "[09/06/2023 04:19:04 PM : INFO  : data_manag : ] : Std train size: 42000 and Std. Val. Size:18000\n",
      "42000 18000\n",
      "[09/06/2023 04:19:04 PM : DEBUG : passive_le : ] : Querying 10 seed training points\n",
      "[09/06/2023 04:19:04 PM : DEBUG : passive_le : ] : Queried 10 seed points for training\n",
      "[09/06/2023 04:19:04 PM : DEBUG : passive_le : ] : Validation Data Size :5000\n",
      "[09/06/2023 04:19:04 PM : DEBUG : passive_le : ] : Querying rest of the training points 40 in single batch\n",
      "[09/06/2023 04:19:04 PM : INFO  : passive_le : ] : Labeled data size for training: 50\n",
      "[09/06/2023 04:19:04 PM : INFO  : pytorch_cl : ] : {'model_name': 'lenet', 'num_classes': 10, 'fit_intercept': True, 'lib': 'pytorch'}\n",
      "[09/06/2023 04:19:04 PM : INFO  : passive_le : ] : --------------- Begin Model Training ------------\n",
      "[09/06/2023 04:19:04 PM : INFO  : passive_le : ] : Training conf :{'loss_function': 'std_cross_entropy', 'label_smoothing': 0.15, 'optimizer': 'sgd', 'learning_rate': 0.1, 'loss_tolerance': 1e-06, 'max_epochs': 50, 'normalize_weights': False, 'batch_size': 32, 'ckpt_load_path': 'None', 'ckpt_save_path': 'None', 'train_from_scratch': True, 'train_from_ckpt': False, 'use_lr_schedule': True, 'shuffle': False, 'device': 'cuda:0', 'store_embedding': False, 'save_ckpt': False, 'num_trials': 1}\n",
      "[09/06/2023 04:19:04 PM : INFO  : passive_le : ] : Model conf : {'model_name': 'lenet', 'num_classes': 10, 'fit_intercept': True, 'lib': 'pytorch'}\n",
      "[09/06/2023 04:19:04 PM : INFO  : pytorch_cl : ] : {'model_name': 'lenet', 'num_classes': 10, 'fit_intercept': True, 'lib': 'pytorch'}\n",
      "[09/06/2023 04:19:04 PM : DEBUG : model_trai : ] : Training conf : {'loss_function': 'std_cross_entropy', 'label_smoothing': 0.15, 'optimizer': 'sgd', 'learning_rate': 0.1, 'loss_tolerance': 1e-06, 'max_epochs': 50, 'normalize_weights': False, 'batch_size': 32, 'ckpt_load_path': 'None', 'ckpt_save_path': 'None', 'train_from_scratch': True, 'train_from_ckpt': False, 'use_lr_schedule': True, 'shuffle': False, 'device': 'cuda:0', 'store_embedding': False, 'save_ckpt': False, 'num_trials': 1, 'weight_decay': 0.0001, 'momentum': 0.9, 'loss_tol': 1e-06, 'max_max_epochs': 10000, 'stopping_criterion': 'max_epochs', 'log_val_err': False, 'log_val_ece': False, 'log_train_ece': False, 'train_err_tol': 0.001, 'log_batch_loss_freq': 20, 'log_val_err_freq': 5, 'log_val_ece_freq': 5, 'verbose_logging': False, 'log_train_ece_freq': 5, 'nesterov': False, 'num_train_pts': 50}\n",
      "[09/06/2023 04:19:04 PM : DEBUG : model_trai : ] : Using loss function : <class 'models.torch.losses.common_losses.StdCrossEntropyLoss'>\n",
      "[09/06/2023 04:19:04 PM : DEBUG : model_trai : ] : Using stopping criterion max_epochs\n",
      "[09/06/2023 04:19:06 PM : DEBUG : model_trai : ] : Train Epoch: 0 [0/50 (0%)]\tLoss: 2.304096 \t result: {'loss': 2.304096221923828}\n",
      "[09/06/2023 04:19:06 PM : DEBUG : model_trai : ] : Epoch: 0 Training Error : 0.8600 , Training Loss : 0.0923\n",
      "[09/06/2023 04:19:06 PM : DEBUG : model_trai : ] : Train Epoch: 1 [0/50 (0%)]\tLoss: 2.263184 \t result: {'loss': 2.263183832168579}\n",
      "[09/06/2023 04:19:06 PM : DEBUG : model_trai : ] : Epoch: 1 Training Error : 0.7800 , Training Loss : 0.0899\n",
      "[09/06/2023 04:19:06 PM : DEBUG : model_trai : ] : Train Epoch: 2 [0/50 (0%)]\tLoss: 2.207247 \t result: {'loss': 2.207247495651245}\n",
      "[09/06/2023 04:19:07 PM : DEBUG : model_trai : ] : Epoch: 2 Training Error : 0.5000 , Training Loss : 0.0861\n",
      "[09/06/2023 04:19:07 PM : DEBUG : model_trai : ] : Train Epoch: 3 [0/50 (0%)]\tLoss: 2.133217 \t result: {'loss': 2.1332173347473145}\n",
      "[09/06/2023 04:19:07 PM : DEBUG : model_trai : ] : Epoch: 3 Training Error : 0.5400 , Training Loss : 0.0810\n",
      "[09/06/2023 04:19:07 PM : DEBUG : model_trai : ] : Train Epoch: 4 [0/50 (0%)]\tLoss: 2.018166 \t result: {'loss': 2.0181655883789062}\n",
      "[09/06/2023 04:19:07 PM : DEBUG : model_trai : ] : Epoch: 4 Training Error : 0.5000 , Training Loss : 0.0742\n",
      "[09/06/2023 04:19:07 PM : DEBUG : model_trai : ] : Train Epoch: 5 [0/50 (0%)]\tLoss: 1.842038 \t result: {'loss': 1.8420382738113403}\n",
      "[09/06/2023 04:19:07 PM : DEBUG : model_trai : ] : Epoch: 5 Training Error : 0.4800 , Training Loss : 0.0660\n",
      "[09/06/2023 04:19:07 PM : DEBUG : model_trai : ] : Train Epoch: 6 [0/50 (0%)]\tLoss: 1.655254 \t result: {'loss': 1.6552542448043823}\n",
      "[09/06/2023 04:19:07 PM : DEBUG : model_trai : ] : Epoch: 6 Training Error : 0.3200 , Training Loss : 0.0578\n",
      "[09/06/2023 04:19:07 PM : DEBUG : model_trai : ] : Train Epoch: 7 [0/50 (0%)]\tLoss: 1.463271 \t result: {'loss': 1.463270902633667}\n",
      "[09/06/2023 04:19:07 PM : DEBUG : model_trai : ] : Epoch: 7 Training Error : 0.2600 , Training Loss : 0.0502\n",
      "[09/06/2023 04:19:07 PM : DEBUG : model_trai : ] : Train Epoch: 8 [0/50 (0%)]\tLoss: 1.269193 \t result: {'loss': 1.269193172454834}\n",
      "[09/06/2023 04:19:07 PM : DEBUG : model_trai : ] : Epoch: 8 Training Error : 0.1600 , Training Loss : 0.0442\n",
      "[09/06/2023 04:19:07 PM : DEBUG : model_trai : ] : Train Epoch: 9 [0/50 (0%)]\tLoss: 1.130856 \t result: {'loss': 1.1308557987213135}\n",
      "[09/06/2023 04:19:07 PM : DEBUG : model_trai : ] : Epoch: 9 Training Error : 0.1000 , Training Loss : 0.0405\n",
      "[09/06/2023 04:19:07 PM : DEBUG : model_trai : ] : Train Epoch: 10 [0/50 (0%)]\tLoss: 1.018646 \t result: {'loss': 1.0186463594436646}\n",
      "[09/06/2023 04:19:08 PM : DEBUG : model_trai : ] : Epoch: 10 Training Error : 0.0800 , Training Loss : 0.0385\n",
      "[09/06/2023 04:19:08 PM : DEBUG : model_trai : ] : Train Epoch: 11 [0/50 (0%)]\tLoss: 0.947860 \t result: {'loss': 0.9478597640991211}\n",
      "[09/06/2023 04:19:08 PM : DEBUG : model_trai : ] : Epoch: 11 Training Error : 0.0200 , Training Loss : 0.0369\n",
      "[09/06/2023 04:19:08 PM : DEBUG : model_trai : ] : Train Epoch: 12 [0/50 (0%)]\tLoss: 0.910838 \t result: {'loss': 0.9108383655548096}\n",
      "[09/06/2023 04:19:08 PM : DEBUG : model_trai : ] : Epoch: 12 Training Error : 0.0000 , Training Loss : 0.0358\n",
      "[09/06/2023 04:19:08 PM : DEBUG : model_trai : ] : Training Stopping criterion met. \n",
      "[09/06/2023 04:19:08 PM : DEBUG : model_trai : ] : \n",
      "[09/06/2023 04:19:08 PM : DEBUG : model_trai : ] : Average training loss : 0.05829039757068342\n",
      "[09/06/2023 04:19:08 PM : INFO  : passive_le : ] : --------------- End Model Training ------------\n",
      "tensor(10.4046)\n",
      "0.3629\n"
     ]
    }
   ],
   "source": [
    "conf['train_pts_query_conf']['seed_train_size']= 10 \n",
    "conf['train_pts_query_conf']['max_num_train_pts']= 50\n",
    "\n",
    "set_seed(conf['random_seed'])\n",
    "\n",
    "dm = DataManager(conf,logger,lib=conf['model_conf']['lib'])\n",
    "\n",
    "print(len(dm.ds_std_train), len(dm.ds_std_val))\n",
    "\n",
    "pl = PassiveLearning(conf,dm,logger)\n",
    "\n",
    "out = pl.run()\n",
    "\n",
    "w = pl.cur_clf.get_weights()\n",
    "print(torch.norm(w))\n",
    "test_err = get_test_error(pl.cur_clf,dm.ds_std_test,conf['inference_conf'])\n",
    "print(test_err)"
   ]
  },
  {
   "cell_type": "code",
   "execution_count": 8,
   "metadata": {},
   "outputs": [
    {
     "data": {
      "image/png": "[encoded data removed]",
      "text/plain": [
       "<Figure size 432x288 with 1 Axes>"
      ]
     },
     "metadata": {
      "needs_background": "light"
     },
     "output_type": "display_data"
    }
   ],
   "source": [
    "cur_val_ds,cur_val_idcs    = dm.get_current_validation_data()\n",
    "\n",
    "val_inf_out = pl.cur_clf.predict(cur_val_ds,conf['inference_conf'])\n",
    "bin_data = compute_calibration(cur_val_ds.Y, val_inf_out['labels'], val_inf_out['confidence'], num_bins=15)\n",
    "ax = plt.subplot()\n",
    "reliability_diagram_subplot(ax, bin_data, draw_ece=True, draw_bin_importance=False, title=\"Reliability Diagram\", \n",
    "                             xlabel=\"Confidence\", ylabel=\"Expected Accuracy\",disable_labels=False)"
   ]
  },
  {
   "cell_type": "code",
   "execution_count": 9,
   "metadata": {},
   "outputs": [
    {
     "data": {
      "text/plain": [
       "<AxesSubplot:ylabel='Density'>"
      ]
     },
     "execution_count": 9,
     "metadata": {},
     "output_type": "execute_result"
    },
    {
     "data": {
      "image/png": "[encoded data removed]",
      "text/plain": [
       "<Figure size 432x288 with 1 Axes>"
      ]
     },
     "metadata": {
      "needs_background": "light"
     },
     "output_type": "display_data"
    }
   ],
   "source": [
    "from utils.counting_utils import * \n",
    "\n",
    "out = get_scores_numbers(val_inf_out, cur_val_ds.Y,10)\n",
    "\n",
    "sns.kdeplot(out['correct_scores'])\n",
    "sns.kdeplot(out['incorrect_scores'])\n"
   ]
  },
  {
   "cell_type": "code",
   "execution_count": 10,
   "metadata": {},
   "outputs": [
    {
     "name": "stdout",
     "output_type": "stream",
     "text": [
      "[09/06/2023 04:21:10 PM : INFO  : auto_label : ] : ========================= Begin Auto-Labeling selective ==========================\n",
      "[09/06/2023 04:21:10 PM : DEBUG : auto_label : ] : Auto Labeling Conf : {'method_name': 'selective', 'score_type': 'confidence', 'class_wise': 'independent', 'auto_label_err_threshold': 0.05, 'C_1': 0.25, 'ucb': 'sigma', 'fast': True}\n",
      "[09/06/2023 04:21:10 PM : INFO  : auto_label : ] : Number of unlabeled points : 41950\n",
      "[09/06/2023 04:21:10 PM : INFO  : auto_label : ] : Using number of validation points : 5000\n",
      "[09/06/2023 04:21:10 PM : INFO  : auto_label : ] : Using Auto-Labeling Error Threshold = 0.05\n",
      "[09/06/2023 04:21:10 PM : DEBUG : auto_label : ] : Expected Calibration Error on Validation set : 0.03171777935326101\n",
      "[09/06/2023 04:21:10 PM : INFO  : auto_label : ] : Determining Thresholds : Class Wise : independent\n",
      "[09/06/2023 04:21:10 PM : DEBUG : threshold_ : ] : C_1 = 0.25 UCB = sigma\n",
      "[09/06/2023 04:21:10 PM : INFO  : threshold_ : ] : auto-labeling threshold t_i=0.4394032955169678 for class 0   \n",
      "[09/06/2023 04:21:10 PM : INFO  : threshold_ : ] : auto-labeling threshold t_i=0.8841863870620728 for class 1   \n",
      "[09/06/2023 04:21:10 PM : INFO  : threshold_ : ] : auto-labeling threshold t_i=0.5590353012084961 for class 2   \n",
      "[09/06/2023 04:21:11 PM : INFO  : threshold_ : ] : auto-labeling threshold t_i=0.7864513397216797 for class 3   \n",
      "[09/06/2023 04:21:11 PM : INFO  : threshold_ : ] : auto-labeling threshold t_i=0.9384661316871643 for class 4   \n",
      "[09/06/2023 04:21:11 PM : INFO  : threshold_ : ] : auto-labeling threshold t_i=inf for class 5   \n",
      "[09/06/2023 04:21:11 PM : INFO  : threshold_ : ] : auto-labeling threshold t_i=inf for class 6   \n",
      "[09/06/2023 04:21:11 PM : INFO  : threshold_ : ] : auto-labeling threshold t_i=0.8574001789093018 for class 7   \n",
      "[09/06/2023 04:21:11 PM : INFO  : threshold_ : ] : auto-labeling threshold t_i=0.85749351978302 for class 8   \n",
      "[09/06/2023 04:21:11 PM : INFO  : threshold_ : ] : auto-labeling threshold t_i=inf for class 9   \n",
      "[09/06/2023 04:21:11 PM : INFO  : auto_label : ] : auto-labeling thresholds from val set: [0.4394033, 0.8841864, 0.5590353, 0.78645134, 0.93846613, inf, inf, 0.8574002, 0.8574935, inf]\n",
      "[09/06/2023 04:21:12 PM : INFO  : auto_label : ] : Num auto labeled points : 7024 \n",
      "[09/06/2023 04:21:12 PM : INFO  : auto_label : ] : Num validation pts to remove : 887\n",
      "[09/06/2023 04:21:12 PM : INFO  : auto_label : ] : ============================== Done Auto-Labeling ==============================\n",
      "{'auto_labeled_acc': 0.9770785876993167, 'coverage_1': 0.16723809523809524, 'coverage_2': 0}\n"
     ]
    }
   ],
   "source": [
    "dm.unmark_auto_labeled()\n",
    "\n",
    "auto_labeler = AutoLabeling(conf,dm,pl.cur_clf,logger)\n",
    "out = auto_labeler.run()\n",
    "out = dm.get_auto_labeling_counts()\n",
    "print(out)"
   ]
  },
  {
   "cell_type": "code",
   "execution_count": null,
   "metadata": {},
   "outputs": [],
   "source": []
  }
 ],
 "metadata": {
  "kernelspec": {
   "display_name": "act-learn-2",
   "language": "python",
   "name": "python3"
  },
  "language_info": {
   "codemirror_mode": {
    "name": "ipython",
    "version": 3
   },
   "file_extension": ".py",
   "mimetype": "text/x-python",
   "name": "python",
   "nbconvert_exporter": "python",
   "pygments_lexer": "ipython3",
   "version": "3.10.4"
  },
  "orig_nbformat": 4
 },
 "nbformat": 4,
 "nbformat_minor": 2
}
