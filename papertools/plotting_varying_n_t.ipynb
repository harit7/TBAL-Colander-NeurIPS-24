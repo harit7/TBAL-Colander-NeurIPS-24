{
 "cells": [
  {
   "cell_type": "code",
   "execution_count": null,
   "metadata": {},
   "outputs": [],
   "source": [
    "import sys \n",
    "sys.path.append('../')\n",
    "\n",
    "from src.utils.counting_utils import * \n",
    "from src.utils.plotting_utils import * \n",
    "\n",
    "\n",
    "root_pfx = '../outputs/mnist_lenet_calib_eval_full_tbal_eval_full/tbal_across_calib_frac_mnist_lenet_calib_eval_full_tbal_eval_full__01-16-2024__09-32-50'\n",
    "\n",
    "# Gets a list of all pkl files as dictionaries from the output directory\n",
    "#lst_outs = get_all_outs_for_exp(root_pfx)\n",
    "#df = pd.DataFrame.from_dict(lst_outs)\n",
    "#display(df.head())\n",
    "df = pd.read_excel(root_pfx + '.xlsx')\n",
    "df = df.drop(columns=['Unnamed: 0'])\n",
    "# Change all calib_conf with NaN to \"None\"\n",
    "df['calib_conf'] = df['calib_conf'].fillna(\"None\")"
   ]
  },
  {
   "cell_type": "code",
   "execution_count": null,
   "metadata": {},
   "outputs": [],
   "source": [
    "# List of max number of training points\n",
    "lst_max_n_t = [100,200,300,400,500]\n",
    "\n",
    "base_params = {\n",
    "    'C':2,\n",
    "    'C_1':0.25,\n",
    "    'eps':0.05,\n",
    "    'max_num_train_pts':500,\n",
    "    'max_num_val_pts':500,\n",
    "    'seed_frac':0.2,\n",
    "    'query_batch_frac':0.05,\n",
    "    'method':'tbal'\n",
    "}"
   ]
  },
  {
   "cell_type": "code",
   "execution_count": null,
   "metadata": {},
   "outputs": [],
   "source": [
    "lst_n_val     = [500]\n",
    "\n",
    "# Plot ticks\n",
    "xticks = [100,200,300,400, 500] \n",
    "xtick_lbls = [100,200,300,400,500] \n",
    "\n",
    "eps = 0.05\n",
    "c1 = 0\n",
    "\n",
    "base_params['max_num_val_pts'] = lst_n_val[0]\n",
    "base_params['C_1'] = c1\n",
    "base_params['eps'] = eps \n",
    "\n",
    "plt.rcParams['font.size'] = 16\n",
    "plt.rcParams['axes.linewidth'] = 1.5\n",
    "\n",
    "\n",
    "lgd = True\n",
    "base_params['C_1'] = c1\n",
    "base_params['eps'] = eps \n",
    "\n",
    "save_path =f\"{root_pfx}_n_q_eps_{eps}_c1_{c1}_nv_{base_params['max_num_val_pts']}_lgd_{lgd}.pdf\"\n",
    "title =None \n",
    "\n",
    "new_plot(\n",
    "save_path,\n",
    "df,\n",
    "lst_max_n_t ,\n",
    "'# Max Training Samples',\n",
    "eps=eps,\n",
    "x_ticks=xticks,\n",
    "xtick_lbls = xtick_lbls, \n",
    "title=title,\n",
    "figsize=(10,3.5),\n",
    "legend=lgd,\n",
    "y_low_1=-0.5,\n",
    "y_up_1= 15,\n",
    "y_low_2=0,\n",
    "y_up_2=105)\n"
   ]
  },
  {
   "cell_type": "markdown",
   "metadata": {},
   "source": []
  },
  {
   "cell_type": "code",
   "execution_count": null,
   "metadata": {},
   "outputs": [],
   "source": []
  },
  {
   "cell_type": "code",
   "execution_count": null,
   "metadata": {},
   "outputs": [],
   "source": []
  },
  {
   "cell_type": "code",
   "execution_count": null,
   "metadata": {},
   "outputs": [],
   "source": []
  }
 ],
 "metadata": {
  "kernelspec": {
   "display_name": "ml-kernel-tbal",
   "language": "python",
   "name": "ml-kernel-tbal"
  },
  "language_info": {
   "codemirror_mode": {
    "name": "ipython",
    "version": 3
   },
   "file_extension": ".py",
   "mimetype": "text/x-python",
   "name": "python",
   "nbconvert_exporter": "python",
   "pygments_lexer": "ipython3",
   "version": "3.10.10"
  },
  "orig_nbformat": 4
 },
 "nbformat": 4,
 "nbformat_minor": 2
}
